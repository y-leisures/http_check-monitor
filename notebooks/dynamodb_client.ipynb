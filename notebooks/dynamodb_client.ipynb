{
 "cells": [
  {
   "cell_type": "markdown",
   "source": [
    "- https://docs.aws.amazon.com/ja_jp/amazondynamodb/latest/developerguide/GettingStarted.html\n",
    "- https://docs.aws.amazon.com/ja_jp/amazondynamodb/latest/developerguide/GettingStarted.WriteItem.html"
   ],
   "metadata": {
    "collapsed": false,
    "pycharm": {
     "name": "#%% md\n"
    }
   }
  },
  {
   "cell_type": "code",
   "execution_count": 21,
   "outputs": [],
   "source": [
    "import boto3\n",
    "from datetime import datetime\n",
    "client = boto3.client('dynamodb')\n",
    "resource = boto3.resource('dynamodb')\n",
    "table = resource.Table('bms-monitoring-events-development')"
   ],
   "metadata": {
    "collapsed": false,
    "pycharm": {
     "name": "#%%\n"
    }
   }
  },
  {
   "cell_type": "code",
   "execution_count": 24,
   "outputs": [
    {
     "name": "stdout",
     "output_type": "stream",
     "text": [
      "1659261930\n"
     ]
    },
    {
     "data": {
      "text/plain": "{'ResponseMetadata': {'RequestId': 'USK1MLNVF8TKNNP0SUJ7IMTEM7VV4KQNSO5AEMVJF66Q9ASUAAJG',\n  'HTTPStatusCode': 200,\n  'HTTPHeaders': {'server': 'Server',\n   'date': 'Sun, 31 Jul 2022 10:05:32 GMT',\n   'content-type': 'application/x-amz-json-1.0',\n   'content-length': '2',\n   'connection': 'keep-alive',\n   'x-amzn-requestid': 'USK1MLNVF8TKNNP0SUJ7IMTEM7VV4KQNSO5AEMVJF66Q9ASUAAJG',\n   'x-amz-crc32': '2745614147'},\n  'RetryAttempts': 0}}"
     },
     "execution_count": 24,
     "metadata": {},
     "output_type": "execute_result"
    }
   ],
   "source": [
    "now = datetime.now().timestamp()\n",
    "print(int(now))\n",
    "table.put_item(Item={'eventTime': int(now), 'resolved': False, 'handledBy': '@yuokada' })"
   ],
   "metadata": {
    "collapsed": false,
    "pycharm": {
     "name": "#%%\n"
    }
   }
  },
  {
   "cell_type": "markdown",
   "source": [
    "Scan records\n",
    "\n",
    "- https://docs.aws.amazon.com/ja_jp/amazondynamodb/latest/developerguide/GettingStarted.Scan.html\n",
    "- https://boto3.amazonaws.com/v1/documentation/api/latest/reference/services/dynamodb.html\n",
    "- https://github.com/awsdocs/aws-doc-sdk-examples/blob/main/python/example_code/dynamodb/GettingStarted/MoviesScan.py\n",
    "- https://github.com/awsdocs/aws-doc-sdk-examples/blob/b527cb117eb71bf5411422197a4a0731d6075a35/python/example_code/dynamodb/TryDax/05-scan-test.py"
   ],
   "metadata": {
    "collapsed": false,
    "pycharm": {
     "name": "#%% md\n"
    }
   }
  },
  {
   "cell_type": "code",
   "execution_count": 29,
   "outputs": [],
   "source": [
    " from boto3.dynamodb.conditions import Key\n",
    "\n",
    "#  scan_kwargs = {\n",
    "#             'FilterExpression': Key('year').between(year_range['first'], year_range['second']),\n",
    "#             'ProjectionExpression': \"#yr, title, info.rating\",\n",
    "#             'ExpressionAttributeNames': {\"#yr\": \"year\"}\n",
    "# }\n",
    "\n",
    "scan_kwargs = {\n",
    "    'FilterExpression': Key('eventTime').between(1659261900, 1659261999)\n",
    "}\n",
    "\n",
    "rows = table.scan(**scan_kwargs)"
   ],
   "metadata": {
    "collapsed": false,
    "pycharm": {
     "name": "#%%\n"
    }
   }
  },
  {
   "cell_type": "code",
   "execution_count": 37,
   "outputs": [
    {
     "data": {
      "text/plain": "dict_keys(['Items', 'Count', 'ScannedCount', 'ResponseMetadata'])"
     },
     "execution_count": 37,
     "metadata": {},
     "output_type": "execute_result"
    }
   ],
   "source": [
    "rows.keys()"
   ],
   "metadata": {
    "collapsed": false,
    "pycharm": {
     "name": "#%%\n"
    }
   }
  },
  {
   "cell_type": "code",
   "execution_count": 38,
   "outputs": [
    {
     "name": "stdout",
     "output_type": "stream",
     "text": [
      "{'Count': 1,\n",
      " 'Items': [{'eventTime': Decimal('1659261930'),\n",
      "            'handledBy': '@yuokada',\n",
      "            'resolved': False}],\n",
      " 'ResponseMetadata': {'HTTPHeaders': {'connection': 'keep-alive',\n",
      "                                      'content-length': '126',\n",
      "                                      'content-type': 'application/x-amz-json-1.0',\n",
      "                                      'date': 'Sun, 31 Jul 2022 16:37:15 GMT',\n",
      "                                      'server': 'Server',\n",
      "                                      'x-amz-crc32': '1072028264',\n",
      "                                      'x-amzn-requestid': 'PD5E9A142R8GFNPRB1CFC5H8ANVV4KQNSO5AEMVJF66Q9ASUAAJG'},\n",
      "                      'HTTPStatusCode': 200,\n",
      "                      'RequestId': 'PD5E9A142R8GFNPRB1CFC5H8ANVV4KQNSO5AEMVJF66Q9ASUAAJG',\n",
      "                      'RetryAttempts': 0},\n",
      " 'ScannedCount': 1}\n"
     ]
    }
   ],
   "source": [
    "from pprint import pprint\n",
    "pprint(rows)"
   ],
   "metadata": {
    "collapsed": false,
    "pycharm": {
     "name": "#%%\n"
    }
   }
  }
 ],
 "metadata": {
  "kernelspec": {
   "display_name": "Python 3",
   "language": "python",
   "name": "python3"
  },
  "language_info": {
   "codemirror_mode": {
    "name": "ipython",
    "version": 2
   },
   "file_extension": ".py",
   "mimetype": "text/x-python",
   "name": "python",
   "nbconvert_exporter": "python",
   "pygments_lexer": "ipython2",
   "version": "2.7.6"
  }
 },
 "nbformat": 4,
 "nbformat_minor": 0
}